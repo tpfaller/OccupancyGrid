{
 "cells": [
  {
   "cell_type": "code",
   "execution_count": 12,
   "metadata": {},
   "outputs": [
    {
     "name": "stdout",
     "output_type": "stream",
     "text": [
      "======\n",
      "Loading NuScenes tables for version v1.0-mini...\n",
      "23 category,\n",
      "8 attribute,\n",
      "4 visibility,\n",
      "911 instance,\n",
      "12 sensor,\n",
      "120 calibrated_sensor,\n",
      "31206 ego_pose,\n",
      "8 log,\n",
      "10 scene,\n",
      "404 sample,\n",
      "31206 sample_data,\n",
      "18538 sample_annotation,\n",
      "4 map,\n",
      "Done loading in 0.475 seconds.\n",
      "======\n",
      "Reverse indexing ...\n",
      "Done reverse indexing in 0.1 seconds.\n",
      "======\n"
     ]
    }
   ],
   "source": [
    "\n",
    "%matplotlib inline\n",
    "from nuscenes.nuscenes import NuScenes\n",
    "import cv2\n",
    "\n",
    "nusc = NuScenes(version='v1.0-mini', dataroot='data/v1.0-mini', verbose=True)\n",
    "\n"
   ]
  },
  {
   "cell_type": "code",
   "execution_count": 4,
   "metadata": {},
   "outputs": [
    {
     "name": "stdout",
     "output_type": "stream",
     "text": [
      "scene-0061, Parked truck, construction, intersectio... [18-07-24 03:28:47]   19s, singapore-onenorth, #anns:4622\n",
      "scene-0103, Many peds right, wait for turning car, ... [18-08-01 19:26:43]   19s, boston-seaport, #anns:2046\n",
      "scene-0655, Parking lot, parked cars, jaywalker, be... [18-08-27 15:51:32]   20s, boston-seaport, #anns:2332\n",
      "scene-0553, Wait at intersection, bicycle, large tr... [18-08-28 20:48:16]   20s, boston-seaport, #anns:1950\n",
      "scene-0757, Arrive at busy intersection, bus, wait ... [18-08-30 19:25:08]   20s, boston-seaport, #anns:592\n",
      "scene-0796, Scooter, peds on sidewalk, bus, cars, t... [18-10-02 02:52:24]   20s, singapore-queensto, #anns:708\n",
      "scene-0916, Parking lot, bicycle rack, parked bicyc... [18-10-08 07:37:13]   20s, singapore-queensto, #anns:2387\n",
      "scene-1077, Night, big street, bus stop, high speed... [18-11-21 11:39:27]   20s, singapore-hollandv, #anns:890\n",
      "scene-1094, Night, after rain, many peds, PMD, ped ... [18-11-21 11:47:27]   19s, singapore-hollandv, #anns:1762\n",
      "scene-1100, Night, peds in sidewalk, peds cross cro... [18-11-21 11:49:47]   19s, singapore-hollandv, #anns:935\n"
     ]
    }
   ],
   "source": [
    "nusc.list_scenes()"
   ]
  },
  {
   "cell_type": "code",
   "execution_count": 5,
   "metadata": {},
   "outputs": [
    {
     "data": {
      "text/plain": [
       "{'token': 'cc8c0bf57f984915a77078b10eb33198',\n",
       " 'log_token': '7e25a2c8ea1f41c5b0da1e69ecfa71a2',\n",
       " 'nbr_samples': 39,\n",
       " 'first_sample_token': 'ca9a282c9e77460f8360f564131a8af5',\n",
       " 'last_sample_token': 'ed5fc18c31904f96a8f0dbb99ff069c0',\n",
       " 'name': 'scene-0061',\n",
       " 'description': 'Parked truck, construction, intersection, turn left, following a van'}"
      ]
     },
     "execution_count": 5,
     "metadata": {},
     "output_type": "execute_result"
    }
   ],
   "source": [
    "my_scene = nusc.scene[0]\n",
    "my_scene"
   ]
  },
  {
   "cell_type": "code",
   "execution_count": 9,
   "metadata": {},
   "outputs": [
    {
     "data": {
      "text/plain": [
       "{'RADAR_FRONT': '37091c75b9704e0daa829ba56dfa0906',\n",
       " 'RADAR_FRONT_LEFT': '11946c1461d14016a322916157da3c7d',\n",
       " 'RADAR_FRONT_RIGHT': '491209956ee3435a9ec173dad3aaf58b',\n",
       " 'RADAR_BACK_LEFT': '312aa38d0e3e4f01b3124c523e6f9776',\n",
       " 'RADAR_BACK_RIGHT': '07b30d5eb6104e79be58eadf94382bc1',\n",
       " 'LIDAR_TOP': '9d9bf11fb0e144c8b446d54a8a00184f',\n",
       " 'CAM_FRONT': 'e3d495d4ac534d54b321f50006683844',\n",
       " 'CAM_FRONT_RIGHT': 'aac7867ebf4f446395d29fbd60b63b3b',\n",
       " 'CAM_BACK_RIGHT': '79dbb4460a6b40f49f9c150cb118247e',\n",
       " 'CAM_BACK': '03bea5763f0f4722933508d5999c5fd8',\n",
       " 'CAM_BACK_LEFT': '43893a033f9c46d4a51b5e08a67a1eb7',\n",
       " 'CAM_FRONT_LEFT': 'fe5422747a7d4268a4b07fc396707b23'}"
      ]
     },
     "execution_count": 9,
     "metadata": {},
     "output_type": "execute_result"
    }
   ],
   "source": [
    "first_sample_token = my_scene['first_sample_token']\n",
    "\n",
    "my_sample = nusc.get('sample', first_sample_token)\n",
    "\n"
   ]
  },
  {
   "cell_type": "code",
   "execution_count": 243,
   "metadata": {},
   "outputs": [],
   "source": [
    "my_sensor = nusc.get('sample_data', my_sample['data']['RADAR_FRONT'])\n",
    "cam_first = nusc.get('sample_data', my_sample['data']['CAM_FRONT'])\n",
    "cam_second = nusc.get('sample_data', cam_first[\"next\"])"
   ]
  },
  {
   "cell_type": "code",
   "execution_count": 251,
   "metadata": {},
   "outputs": [],
   "source": [
    "sensor_counter = {}\n",
    "for sensor_name, sensor_token in my_sample['data'].items():\n",
    "    sensor_counter[sensor_name] = 1\n",
    "    frame = nusc.get('sample_data', my_sample['data'][sensor_name])\n",
    "    while len(frame[\"next\"]) > 0:\n",
    "        frame = nusc.get('sample_data', frame[\"next\"])\n",
    "        if frame['is_key_frame']:\n",
    "            sensor_counter[sensor_name] += 1"
   ]
  },
  {
   "cell_type": "code",
   "execution_count": 250,
   "metadata": {},
   "outputs": [
    {
     "data": {
      "text/plain": [
       "{'RADAR_FRONT': 39,\n",
       " 'RADAR_FRONT_LEFT': 39,\n",
       " 'RADAR_FRONT_RIGHT': 39,\n",
       " 'RADAR_BACK_LEFT': 39,\n",
       " 'RADAR_BACK_RIGHT': 39,\n",
       " 'LIDAR_TOP': 39,\n",
       " 'CAM_FRONT': 39,\n",
       " 'CAM_FRONT_RIGHT': 39,\n",
       " 'CAM_BACK_RIGHT': 39,\n",
       " 'CAM_BACK': 39,\n",
       " 'CAM_BACK_LEFT': 39,\n",
       " 'CAM_FRONT_LEFT': 39}"
      ]
     },
     "execution_count": 250,
     "metadata": {},
     "output_type": "execute_result"
    }
   ],
   "source": [
    "sensor_counter"
   ]
  },
  {
   "cell_type": "code",
   "execution_count": 253,
   "metadata": {},
   "outputs": [
    {
     "name": "stdout",
     "output_type": "stream",
     "text": [
      "======\n",
      "Loading NuScenes tables for version v1.0-mini...\n",
      "23 category,\n",
      "8 attribute,\n",
      "4 visibility,\n",
      "911 instance,\n",
      "12 sensor,\n",
      "120 calibrated_sensor,\n",
      "31206 ego_pose,\n",
      "8 log,\n",
      "10 scene,\n",
      "404 sample,\n",
      "31206 sample_data,\n",
      "18538 sample_annotation,\n",
      "4 map,\n",
      "Done loading in 0.542 seconds.\n",
      "======\n",
      "Reverse indexing ...\n",
      "Done reverse indexing in 0.1 seconds.\n",
      "======\n"
     ]
    },
    {
     "data": {
      "text/plain": [
       "'ca9a282c9e77460f8360f564131a8af5'"
      ]
     },
     "execution_count": 253,
     "metadata": {},
     "output_type": "execute_result"
    }
   ],
   "source": [
    "data_path = \"data/v1.0-mini\"\n",
    "\n",
    "nusc = NuScenes(version='v1.0-mini', dataroot='data/v1.0-mini', verbose=True)\n",
    "my_scene = nusc.scene[0]\n",
    "\n",
    "first_token = my_scene['first_sample_token']\n"
   ]
  },
  {
   "cell_type": "code",
   "execution_count": 258,
   "metadata": {},
   "outputs": [],
   "source": [
    "my_sample = nusc.get('sample', first_token)\n"
   ]
  },
  {
   "cell_type": "code",
   "execution_count": 299,
   "metadata": {},
   "outputs": [
    {
     "data": {
      "text/plain": [
       "'202d8a4cc24045a08f6ece5876b42d5c'"
      ]
     },
     "execution_count": 299,
     "metadata": {},
     "output_type": "execute_result"
    }
   ],
   "source": [
    "\n",
    "my_sample[\"data\"][\"LIDAR_TOP\"]"
   ]
  },
  {
   "cell_type": "code",
   "execution_count": null,
   "metadata": {},
   "outputs": [],
   "source": []
  }
 ],
 "metadata": {
  "kernelspec": {
   "display_name": "venv",
   "language": "python",
   "name": "python3"
  },
  "language_info": {
   "codemirror_mode": {
    "name": "ipython",
    "version": 3
   },
   "file_extension": ".py",
   "mimetype": "text/x-python",
   "name": "python",
   "nbconvert_exporter": "python",
   "pygments_lexer": "ipython3",
   "version": "3.7.17"
  }
 },
 "nbformat": 4,
 "nbformat_minor": 2
}
