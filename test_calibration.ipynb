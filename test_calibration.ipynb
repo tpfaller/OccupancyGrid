{
 "cells": [
  {
   "cell_type": "code",
   "execution_count": 5,
   "metadata": {},
   "outputs": [
    {
     "name": "stdout",
     "output_type": "stream",
     "text": [
      "Jupyter environment detected. Enabling Open3D WebVisualizer.\n",
      "[Open3D INFO] WebRTC GUI backend enabled.\n",
      "[Open3D INFO] WebRTCWindowSystem: HTTP handshake server disabled.\n"
     ]
    }
   ],
   "source": [
    "from nuscenes.nuscenes import NuScenes\n",
    "\n",
    "import numpy as np\n",
    "import cv2\n",
    "import os\n",
    "\n",
    "from typing import Tuple\n",
    "from pprint import pprint\n",
    "\n",
    "from pointcloud_tools import get_calibrated_pointcloud, compute_length_and_degree\n",
    "\n",
    "\n",
    "\n",
    "nusc = NuScenes(version='v1.0-mini', dataroot='data/v1.0-mini', verbose=False)"
   ]
  },
  {
   "cell_type": "code",
   "execution_count": 6,
   "metadata": {},
   "outputs": [],
   "source": [
    "my_scene = nusc.scene[0]\n",
    "first_sample_token = my_scene['first_sample_token']\n",
    "my_sample = nusc.get('sample', first_sample_token)"
   ]
  },
  {
   "cell_type": "code",
   "execution_count": 7,
   "metadata": {},
   "outputs": [],
   "source": [
    "def get_rings(ego_center: float = 6.,\n",
    "ring_width: float = 1.,\n",
    "last_ring: float = 100,\n",
    "growth_rate: float = 1.1\n",
    ") -> np.ndarray:\n",
    "    ring_size = ego_center\n",
    "    rings = [ring_size]\n",
    "\n",
    "    while ring_size < last_ring:\n",
    "        ring_size += ring_width\n",
    "        ring_width *= growth_rate\n",
    "        rings.append(ring_size)\n",
    "    return np.array(rings)\n"
   ]
  },
  {
   "cell_type": "code",
   "execution_count": 8,
   "metadata": {},
   "outputs": [
    {
     "data": {
      "text/plain": [
       "((96,), (120,))"
      ]
     },
     "execution_count": 8,
     "metadata": {},
     "output_type": "execute_result"
    }
   ],
   "source": [
    "angle_resolution = 3\n",
    "ring_width, growth_rate = .25, 1.025\n",
    "rings = get_rings(ring_width=ring_width, growth_rate=growth_rate)\n",
    "angles = np.arange(0, 360, angle_resolution)\n",
    "rings.shape, angles.shape"
   ]
  },
  {
   "cell_type": "code",
   "execution_count": 17,
   "metadata": {},
   "outputs": [],
   "source": [
    "def count_points_per_cell(pcd: np.ndarray, angles: np.ndarray, circles: np.ndarray) -> np.ndarray:\n",
    "        vector_lengths, pcd_angles = compute_length_and_degree(pcd)\n",
    "\n",
    "        angle_correction = np.select([pcd_angles < 0], [360], default=0)\n",
    "        pcd_angles += angle_correction\n",
    "        \n",
    "        angle_bins = np.digitize(pcd_angles, angles)\n",
    "        radius_bins = np.digitize(vector_lengths, circles)\n",
    "\n",
    "        occupancy_cells = np.zeros((circles.shape[0]+ 1, angles.shape[0] + 1))\n",
    "        for radius_bin, angle_bin in zip(radius_bins, angle_bins):\n",
    "            occupancy_cells[radius_bin, angle_bin] += 1\n",
    "        return occupancy_cells\n",
    "\n",
    "def filter_pointcloud(pcd: np.ndarray, min_height: float = 0., min_x: float = 1., min_y: float = 1.) -> np.ndarray:\n",
    "    pcd = pcd[np.where(pcd[:, 2] > min_height)]\n",
    "    pcd = pcd[np.where(pcd[:, 2] < 3.)]\n",
    "    pcd = pcd[np.where(pcd[:, 1] > min_x)]\n",
    "    pcd = pcd[np.where(pcd[:, 0] > min_y)]\n",
    "    return pcd"
   ]
  },
  {
   "cell_type": "code",
   "execution_count": 18,
   "metadata": {},
   "outputs": [],
   "source": [
    "radar_pcds = []\n",
    "radar_list = [\"RADAR_FRONT\", \"RADAR_FRONT_LEFT\", \"RADAR_BACK_LEFT\", \"RADAR_BACK_RIGHT\", \"RADAR_FRONT_RIGHT\"]\n",
    "for sensor in radar_list:\n",
    "    _, pcd_ego = get_calibrated_pointcloud(nusc, my_sample, sensor_name=sensor)\n",
    "    pcd_ego = filter_pointcloud(pcd_ego)\n",
    "    radar_pcds.append(pcd_ego)\n",
    "_, lidar_pcd_ego = get_calibrated_pointcloud(nusc, my_sample, sensor_name=\"LIDAR_TOP\")\n",
    "lidar_pcd_ego = filter_pointcloud(lidar_pcd_ego)\n"
   ]
  },
  {
   "cell_type": "code",
   "execution_count": 19,
   "metadata": {},
   "outputs": [],
   "source": [
    "points_per_cell = count_points_per_cell(pcd=lidar_pcd_ego, angles=angles, circles=rings)\n",
    "occupied = np.select([points_per_cell > 0], [1.], default=0.)\n",
    "\n",
    "cv2.namedWindow(\"Occupancy Lidar\", cv2.WINDOW_NORMAL) \n",
    "cv2.resizeWindow(\"Occupancy Lidar\", 1280, 1280) \n",
    "cv2.imshow(\"Occupancy Lidar\", occupied)\n",
    "\n",
    "laplacian = cv2.Laplacian(occupied,cv2.CV_64F)\n",
    "\n",
    "edges = cv2.Canny(occupied.astype(np.uint8),0,255)\n",
    "\n",
    "cv2.namedWindow(\"Laplacian Lidar\", cv2.WINDOW_NORMAL) \n",
    "cv2.resizeWindow(\"Laplacian Lidar\", 1280, 1280) \n",
    "cv2.imshow(\"Laplacian Lidar\", laplacian)\n",
    "\n",
    "cam_front = nusc.get('sample_data', my_sample['data']['CAM_FRONT'])\n",
    "file_path = os.path.join(\"data/v1.0-mini/\", cam_front[\"filename\"])\n",
    "image_front = cv2.imread(file_path)\n",
    "cv2.namedWindow(\"Image Front\", cv2.WINDOW_NORMAL) \n",
    "cv2.resizeWindow(\"Image Front\", 1280, 1280) \n",
    "cv2.imshow(\"Image Front\", image_front)\n",
    "\n",
    "cam_back = nusc.get('sample_data', my_sample['data']['CAM_BACK'])\n",
    "file_path = os.path.join(\"data/v1.0-mini/\", cam_back[\"filename\"])\n",
    "image_back = cv2.imread(file_path)\n",
    "cv2.namedWindow(\"Image Back\", cv2.WINDOW_NORMAL) \n",
    "cv2.resizeWindow(\"Image Back\", 1280, 1280) \n",
    "cv2.imshow(\"Image Back\", image_back)\n",
    "\n",
    "\n",
    "cv2.waitKey(0)\n",
    "cv2.destroyAllWindows()\n"
   ]
  },
  {
   "cell_type": "code",
   "execution_count": 13,
   "metadata": {},
   "outputs": [],
   "source": [
    "for pcd in radar_pcds:\n",
    "    points_per_cell = count_points_per_cell(pcd=pcd, angles=angles, circles=rings)\n",
    "    occupied = np.select([points_per_cell > 0], [1.], default=0.)\n",
    "    cv2.namedWindow(\"Occupancy Lidar\", cv2.WINDOW_NORMAL) \n",
    "    cv2.resizeWindow(\"Occupancy Lidar\", 1280, 1280) \n",
    "    cv2.imshow(\"Occupancy Lidar\", occupied)\n",
    "    laplacian = cv2.Laplacian(occupied,cv2.CV_64F)\n",
    "\n",
    "    cv2.namedWindow(\"Laplacian Lidar\", cv2.WINDOW_NORMAL) \n",
    "    cv2.resizeWindow(\"Laplacian Lidar\", 1280, 1280) \n",
    "    cv2.imshow(\"Laplacian Lidar\", laplacian)\n",
    "\n",
    "    cv2.waitKey(0)\n",
    "    cv2.destroyAllWindows()"
   ]
  },
  {
   "cell_type": "code",
   "execution_count": null,
   "metadata": {},
   "outputs": [],
   "source": []
  },
  {
   "cell_type": "code",
   "execution_count": null,
   "metadata": {},
   "outputs": [],
   "source": []
  }
 ],
 "metadata": {
  "kernelspec": {
   "display_name": "venv",
   "language": "python",
   "name": "python3"
  },
  "language_info": {
   "codemirror_mode": {
    "name": "ipython",
    "version": 3
   },
   "file_extension": ".py",
   "mimetype": "text/x-python",
   "name": "python",
   "nbconvert_exporter": "python",
   "pygments_lexer": "ipython3",
   "version": "3.7.17"
  }
 },
 "nbformat": 4,
 "nbformat_minor": 2
}
